{
 "cells": [
  {
   "cell_type": "code",
   "execution_count": null,
   "id": "6ad84c8f",
   "metadata": {},
   "outputs": [],
   "source": [
    "import openai\n",
    "import pandas as pd"
   ]
  },
  {
   "cell_type": "code",
   "execution_count": null,
   "id": "328f704b",
   "metadata": {},
   "outputs": [],
   "source": [
    "with open('01.txt', 'r') as fh:\n",
    "    tmp = fh.read()\n",
    "    itemlist = tmp.split(',')"
   ]
  },
  {
   "cell_type": "code",
   "execution_count": null,
   "id": "86ab51ce",
   "metadata": {},
   "outputs": [],
   "source": [
    "with open('02.txt', 'r') as fh:\n",
    "    tmp = fh.read()\n",
    "    itemlist = tmp.split(',')"
   ]
  },
  {
   "cell_type": "code",
   "execution_count": null,
   "id": "5746b77c",
   "metadata": {},
   "outputs": [],
   "source": [
    "itemlist = str(itemlist)"
   ]
  },
  {
   "cell_type": "code",
   "execution_count": null,
   "id": "0048a0f9",
   "metadata": {},
   "outputs": [],
   "source": [
    "keyfile = open(\"key.txt\", \"r\")\n",
    "key = keyfile.readline()\n",
    "openai.api_key = key"
   ]
  },
  {
   "cell_type": "code",
   "execution_count": null,
   "id": "dc2ff8ca",
   "metadata": {},
   "outputs": [],
   "source": [
    "data = [itemlist[0:3200], itemlist[3201:6400], \n",
    "        itemlist[6401:9600], itemlist[9601:12800], itemlist[12801:16000]]"
   ]
  },
  {
   "cell_type": "code",
   "execution_count": null,
   "id": "bd7e3b8c",
   "metadata": {},
   "outputs": [],
   "source": [
    "data[0]"
   ]
  },
  {
   "cell_type": "code",
   "execution_count": null,
   "id": "45bc9fc9",
   "metadata": {},
   "outputs": [],
   "source": []
  },
  {
   "cell_type": "code",
   "execution_count": null,
   "id": "8f76aa6b",
   "metadata": {},
   "outputs": [],
   "source": []
  }
 ],
 "metadata": {
  "kernelspec": {
   "display_name": "Python 3 (ipykernel)",
   "language": "python",
   "name": "python3"
  },
  "language_info": {
   "codemirror_mode": {
    "name": "ipython",
    "version": 3
   },
   "file_extension": ".py",
   "mimetype": "text/x-python",
   "name": "python",
   "nbconvert_exporter": "python",
   "pygments_lexer": "ipython3",
   "version": "3.9.13"
  }
 },
 "nbformat": 4,
 "nbformat_minor": 5
}
