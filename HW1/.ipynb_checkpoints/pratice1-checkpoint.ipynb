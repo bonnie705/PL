{
 "cells": [
  {
   "cell_type": "code",
   "execution_count": 14,
   "id": "6368462e",
   "metadata": {
    "scrolled": true
   },
   "outputs": [
    {
     "data": {
      "text/html": [
       "<div>\n",
       "<style scoped>\n",
       "    .dataframe tbody tr th:only-of-type {\n",
       "        vertical-align: middle;\n",
       "    }\n",
       "\n",
       "    .dataframe tbody tr th {\n",
       "        vertical-align: top;\n",
       "    }\n",
       "\n",
       "    .dataframe thead th {\n",
       "        text-align: right;\n",
       "    }\n",
       "</style>\n",
       "<table border=\"1\" class=\"dataframe\">\n",
       "  <thead>\n",
       "    <tr style=\"text-align: right;\">\n",
       "      <th></th>\n",
       "      <th>排名</th>\n",
       "      <th>drama/variety show</th>\n",
       "    </tr>\n",
       "  </thead>\n",
       "  <tbody>\n",
       "    <tr>\n",
       "      <th>0</th>\n",
       "      <td>1</td>\n",
       "      <td>黑道律師文森佐</td>\n",
       "    </tr>\n",
       "    <tr>\n",
       "      <th>1</th>\n",
       "      <td>2</td>\n",
       "      <td>薛西弗斯的神話</td>\n",
       "    </tr>\n",
       "    <tr>\n",
       "      <th>2</th>\n",
       "      <td>3</td>\n",
       "      <td>鬼滅之刃</td>\n",
       "    </tr>\n",
       "    <tr>\n",
       "      <th>3</th>\n",
       "      <td>4</td>\n",
       "      <td>驅魔麵館</td>\n",
       "    </tr>\n",
       "    <tr>\n",
       "      <th>4</th>\n",
       "      <td>5</td>\n",
       "      <td>鋼鐵部隊</td>\n",
       "    </tr>\n",
       "    <tr>\n",
       "      <th>5</th>\n",
       "      <td>6</td>\n",
       "      <td>柏捷頓家族：名門韻事</td>\n",
       "    </tr>\n",
       "    <tr>\n",
       "      <th>6</th>\n",
       "      <td>7</td>\n",
       "      <td>Law School</td>\n",
       "    </tr>\n",
       "    <tr>\n",
       "      <th>7</th>\n",
       "      <td>8</td>\n",
       "      <td>結婚作詞，離婚作曲</td>\n",
       "    </tr>\n",
       "    <tr>\n",
       "      <th>8</th>\n",
       "      <td>9</td>\n",
       "      <td>奔向愛情</td>\n",
       "    </tr>\n",
       "    <tr>\n",
       "      <th>9</th>\n",
       "      <td>10</td>\n",
       "      <td>愛在大都會</td>\n",
       "    </tr>\n",
       "  </tbody>\n",
       "</table>\n",
       "</div>"
      ],
      "text/plain": [
       "   排名 drama/variety show\n",
       "0   1            黑道律師文森佐\n",
       "1   2            薛西弗斯的神話\n",
       "2   3               鬼滅之刃\n",
       "3   4               驅魔麵館\n",
       "4   5               鋼鐵部隊\n",
       "5   6         柏捷頓家族：名門韻事\n",
       "6   7         Law School\n",
       "7   8          結婚作詞，離婚作曲\n",
       "8   9               奔向愛情\n",
       "9  10              愛在大都會"
      ]
     },
     "execution_count": 14,
     "metadata": {},
     "output_type": "execute_result"
    }
   ],
   "source": [
    "#匯入csv檔案\n",
    "#2021韓國Netflix戲劇/綜藝榜單\n",
    "import pandas as pd\n",
    "\n",
    "data1 = pd.read_csv(\"data1.csv\",encoding=\"Big5\")\n",
    "data1"
   ]
  },
  {
   "cell_type": "code",
   "execution_count": 15,
   "id": "14409b35",
   "metadata": {},
   "outputs": [
    {
     "data": {
      "text/html": [
       "<div>\n",
       "<style scoped>\n",
       "    .dataframe tbody tr th:only-of-type {\n",
       "        vertical-align: middle;\n",
       "    }\n",
       "\n",
       "    .dataframe tbody tr th {\n",
       "        vertical-align: top;\n",
       "    }\n",
       "\n",
       "    .dataframe thead th {\n",
       "        text-align: right;\n",
       "    }\n",
       "</style>\n",
       "<table border=\"1\" class=\"dataframe\">\n",
       "  <thead>\n",
       "    <tr style=\"text-align: right;\">\n",
       "      <th></th>\n",
       "      <th>排名</th>\n",
       "      <th>drama/variety show</th>\n",
       "    </tr>\n",
       "  </thead>\n",
       "  <tbody>\n",
       "    <tr>\n",
       "      <th>0</th>\n",
       "      <td>1</td>\n",
       "      <td>黑道律師文森佐</td>\n",
       "    </tr>\n",
       "    <tr>\n",
       "      <th>1</th>\n",
       "      <td>2</td>\n",
       "      <td>薛西弗斯的神話</td>\n",
       "    </tr>\n",
       "    <tr>\n",
       "      <th>2</th>\n",
       "      <td>3</td>\n",
       "      <td>未來媽媽</td>\n",
       "    </tr>\n",
       "    <tr>\n",
       "      <th>3</th>\n",
       "      <td>4</td>\n",
       "      <td>驅魔麵館</td>\n",
       "    </tr>\n",
       "    <tr>\n",
       "      <th>4</th>\n",
       "      <td>5</td>\n",
       "      <td>進擊的巨人</td>\n",
       "    </tr>\n",
       "    <tr>\n",
       "      <th>5</th>\n",
       "      <td>6</td>\n",
       "      <td>天橋上的魔術師</td>\n",
       "    </tr>\n",
       "    <tr>\n",
       "      <th>6</th>\n",
       "      <td>7</td>\n",
       "      <td>亞森·羅賓</td>\n",
       "    </tr>\n",
       "    <tr>\n",
       "      <th>7</th>\n",
       "      <td>8</td>\n",
       "      <td>火神的眼淚</td>\n",
       "    </tr>\n",
       "    <tr>\n",
       "      <th>8</th>\n",
       "      <td>9</td>\n",
       "      <td>Law School</td>\n",
       "    </tr>\n",
       "    <tr>\n",
       "      <th>9</th>\n",
       "      <td>10</td>\n",
       "      <td>大秦賦</td>\n",
       "    </tr>\n",
       "  </tbody>\n",
       "</table>\n",
       "</div>"
      ],
      "text/plain": [
       "   排名 drama/variety show\n",
       "0   1            黑道律師文森佐\n",
       "1   2            薛西弗斯的神話\n",
       "2   3               未來媽媽\n",
       "3   4               驅魔麵館\n",
       "4   5              進擊的巨人\n",
       "5   6            天橋上的魔術師\n",
       "6   7              亞森·羅賓\n",
       "7   8              火神的眼淚\n",
       "8   9         Law School\n",
       "9  10                大秦賦"
      ]
     },
     "execution_count": 15,
     "metadata": {},
     "output_type": "execute_result"
    }
   ],
   "source": [
    "#2021台灣Netflix戲劇/綜藝榜單\n",
    "data2 = pd.read_csv(\"data2.csv\",encoding=\"Big5\")\n",
    "data2"
   ]
  },
  {
   "cell_type": "code",
   "execution_count": 26,
   "id": "e7e9e997",
   "metadata": {},
   "outputs": [
    {
     "data": {
      "text/plain": [
       "{'Law School',\n",
       " '奔向愛情',\n",
       " '愛在大都會',\n",
       " '柏捷頓家族：名門韻事',\n",
       " '結婚作詞，離婚作曲',\n",
       " '薛西弗斯的神話',\n",
       " '鋼鐵部隊',\n",
       " '驅魔麵館',\n",
       " '鬼滅之刃',\n",
       " '黑道律師文森佐'}"
      ]
     },
     "execution_count": 26,
     "metadata": {},
     "output_type": "execute_result"
    }
   ],
   "source": [
    "#列出子集合\n",
    "set_data1 = set(data1[\"drama/variety show\"])\n",
    "set_data1"
   ]
  },
  {
   "cell_type": "code",
   "execution_count": 27,
   "id": "e857763f",
   "metadata": {},
   "outputs": [
    {
     "data": {
      "text/plain": [
       "{'Law School',\n",
       " '亞森·羅賓',\n",
       " '大秦賦',\n",
       " '天橋上的魔術師',\n",
       " '未來媽媽',\n",
       " '火神的眼淚',\n",
       " '薛西弗斯的神話',\n",
       " '進擊的巨人',\n",
       " '驅魔麵館',\n",
       " '黑道律師文森佐'}"
      ]
     },
     "execution_count": 27,
     "metadata": {},
     "output_type": "execute_result"
    }
   ],
   "source": [
    "set_data2 = set(data2[\"drama/variety show\"])\n",
    "set_data2"
   ]
  },
  {
   "cell_type": "code",
   "execution_count": 28,
   "id": "64e62ed5",
   "metadata": {},
   "outputs": [
    {
     "data": {
      "text/plain": [
       "{'Law School', '薛西弗斯的神話', '驅魔麵館', '黑道律師文森佐'}"
      ]
     },
     "execution_count": 28,
     "metadata": {},
     "output_type": "execute_result"
    }
   ],
   "source": [
    "#交集\n",
    "#2021韓國和台灣Netflix同時上榜的戲劇/綜藝\n",
    "(set_data1 & set_data2)"
   ]
  },
  {
   "cell_type": "code",
   "execution_count": 29,
   "id": "c5501e16",
   "metadata": {},
   "outputs": [
    {
     "data": {
      "text/plain": [
       "{'Law School',\n",
       " '亞森·羅賓',\n",
       " '大秦賦',\n",
       " '天橋上的魔術師',\n",
       " '奔向愛情',\n",
       " '愛在大都會',\n",
       " '未來媽媽',\n",
       " '柏捷頓家族：名門韻事',\n",
       " '火神的眼淚',\n",
       " '結婚作詞，離婚作曲',\n",
       " '薛西弗斯的神話',\n",
       " '進擊的巨人',\n",
       " '鋼鐵部隊',\n",
       " '驅魔麵館',\n",
       " '鬼滅之刃',\n",
       " '黑道律師文森佐'}"
      ]
     },
     "execution_count": 29,
     "metadata": {},
     "output_type": "execute_result"
    }
   ],
   "source": [
    "#聯集\n",
    "#2021韓國和台灣Netflix有上榜的戲劇/綜藝\n",
    "(set_data1 | set_data2)"
   ]
  },
  {
   "cell_type": "code",
   "execution_count": 30,
   "id": "4adfb0a7",
   "metadata": {},
   "outputs": [
    {
     "data": {
      "text/plain": [
       "{'奔向愛情', '愛在大都會', '柏捷頓家族：名門韻事', '結婚作詞，離婚作曲', '鋼鐵部隊', '鬼滅之刃'}"
      ]
     },
     "execution_count": 30,
     "metadata": {},
     "output_type": "execute_result"
    }
   ],
   "source": [
    "#差集\n",
    "#2021韓國Netflix有上榜但台灣沒有的戲劇/綜藝\n",
    "(set_data1 - (set_data1 & set_data2))"
   ]
  },
  {
   "cell_type": "code",
   "execution_count": 33,
   "id": "dc65b771",
   "metadata": {},
   "outputs": [
    {
     "data": {
      "text/plain": [
       "{'Law School',\n",
       " '亞森·羅賓',\n",
       " '大秦賦',\n",
       " '天橋上的魔術師',\n",
       " '奔向愛情',\n",
       " '愛在大都會',\n",
       " '未來媽媽',\n",
       " '柏捷頓家族：名門韻事',\n",
       " '火神的眼淚',\n",
       " '結婚作詞，離婚作曲',\n",
       " '薛西弗斯的神話',\n",
       " '進擊的巨人',\n",
       " '鋼鐵部隊',\n",
       " '驅魔麵館',\n",
       " '鬼滅之刃',\n",
       " '黑道律師文森佐'}"
      ]
     },
     "execution_count": 33,
     "metadata": {},
     "output_type": "execute_result"
    }
   ],
   "source": [
    "#對稱差集\n",
    "#2021只有韓國Netflix或只有台灣Netflix上榜的戲劇/綜藝\n",
    "(set_data1 | set_data2 - (set_data1 & set_data2))"
   ]
  },
  {
   "cell_type": "code",
   "execution_count": null,
   "id": "1bfdf35a",
   "metadata": {},
   "outputs": [],
   "source": []
  },
  {
   "cell_type": "code",
   "execution_count": null,
   "id": "f1fe67f3",
   "metadata": {},
   "outputs": [],
   "source": []
  }
 ],
 "metadata": {
  "kernelspec": {
   "display_name": "Python 3 (ipykernel)",
   "language": "python",
   "name": "python3"
  },
  "language_info": {
   "codemirror_mode": {
    "name": "ipython",
    "version": 3
   },
   "file_extension": ".py",
   "mimetype": "text/x-python",
   "name": "python",
   "nbconvert_exporter": "python",
   "pygments_lexer": "ipython3",
   "version": "3.9.13"
  }
 },
 "nbformat": 4,
 "nbformat_minor": 5
}
