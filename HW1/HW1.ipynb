{
 "cells": [
  {
   "cell_type": "code",
   "execution_count": 9,
   "id": "b85c5c51",
   "metadata": {},
   "outputs": [
    {
     "data": {
      "text/html": [
       "<div>\n",
       "<style scoped>\n",
       "    .dataframe tbody tr th:only-of-type {\n",
       "        vertical-align: middle;\n",
       "    }\n",
       "\n",
       "    .dataframe tbody tr th {\n",
       "        vertical-align: top;\n",
       "    }\n",
       "\n",
       "    .dataframe thead th {\n",
       "        text-align: right;\n",
       "    }\n",
       "</style>\n",
       "<table border=\"1\" class=\"dataframe\">\n",
       "  <thead>\n",
       "    <tr style=\"text-align: right;\">\n",
       "      <th></th>\n",
       "      <th>age_upon_outcome</th>\n",
       "      <th>animal_id</th>\n",
       "      <th>animal_type</th>\n",
       "      <th>breed</th>\n",
       "      <th>color</th>\n",
       "      <th>date_of_birth</th>\n",
       "      <th>datetime</th>\n",
       "      <th>monthyear</th>\n",
       "      <th>name</th>\n",
       "      <th>outcome_subtype</th>\n",
       "      <th>outcome_type</th>\n",
       "      <th>sex_upon_outcome</th>\n",
       "    </tr>\n",
       "  </thead>\n",
       "  <tbody>\n",
       "    <tr>\n",
       "      <th>0</th>\n",
       "      <td>2 weeks</td>\n",
       "      <td>A684346</td>\n",
       "      <td>Cat</td>\n",
       "      <td>Domestic Shorthair Mix</td>\n",
       "      <td>Orange Tabby</td>\n",
       "      <td>2014-07-07T00:00:00</td>\n",
       "      <td>2014-07-22T16:04:00</td>\n",
       "      <td>2014-07-22T16:04:00</td>\n",
       "      <td>NaN</td>\n",
       "      <td>Partner</td>\n",
       "      <td>Transfer</td>\n",
       "      <td>Intact Male</td>\n",
       "    </tr>\n",
       "    <tr>\n",
       "      <th>1</th>\n",
       "      <td>1 year</td>\n",
       "      <td>A666430</td>\n",
       "      <td>Dog</td>\n",
       "      <td>Beagle Mix</td>\n",
       "      <td>White/Brown</td>\n",
       "      <td>2012-11-06T00:00:00</td>\n",
       "      <td>2013-11-07T11:47:00</td>\n",
       "      <td>2013-11-07T11:47:00</td>\n",
       "      <td>Lucy</td>\n",
       "      <td>Partner</td>\n",
       "      <td>Transfer</td>\n",
       "      <td>Spayed Female</td>\n",
       "    </tr>\n",
       "    <tr>\n",
       "      <th>2</th>\n",
       "      <td>1 year</td>\n",
       "      <td>A675708</td>\n",
       "      <td>Dog</td>\n",
       "      <td>Pit Bull</td>\n",
       "      <td>Blue/White</td>\n",
       "      <td>2013-03-31T00:00:00</td>\n",
       "      <td>2014-06-03T14:20:00</td>\n",
       "      <td>2014-06-03T14:20:00</td>\n",
       "      <td>*Johnny</td>\n",
       "      <td>NaN</td>\n",
       "      <td>Adoption</td>\n",
       "      <td>Neutered Male</td>\n",
       "    </tr>\n",
       "    <tr>\n",
       "      <th>3</th>\n",
       "      <td>9 years</td>\n",
       "      <td>A680386</td>\n",
       "      <td>Dog</td>\n",
       "      <td>Miniature Schnauzer Mix</td>\n",
       "      <td>White</td>\n",
       "      <td>2005-06-02T00:00:00</td>\n",
       "      <td>2014-06-15T15:50:00</td>\n",
       "      <td>2014-06-15T15:50:00</td>\n",
       "      <td>Monday</td>\n",
       "      <td>Partner</td>\n",
       "      <td>Transfer</td>\n",
       "      <td>Neutered Male</td>\n",
       "    </tr>\n",
       "    <tr>\n",
       "      <th>4</th>\n",
       "      <td>5 months</td>\n",
       "      <td>A683115</td>\n",
       "      <td>Other</td>\n",
       "      <td>Bat Mix</td>\n",
       "      <td>Brown</td>\n",
       "      <td>2014-01-07T00:00:00</td>\n",
       "      <td>2014-07-07T14:04:00</td>\n",
       "      <td>2014-07-07T14:04:00</td>\n",
       "      <td>NaN</td>\n",
       "      <td>Rabies Risk</td>\n",
       "      <td>Euthanasia</td>\n",
       "      <td>Unknown</td>\n",
       "    </tr>\n",
       "    <tr>\n",
       "      <th>...</th>\n",
       "      <td>...</td>\n",
       "      <td>...</td>\n",
       "      <td>...</td>\n",
       "      <td>...</td>\n",
       "      <td>...</td>\n",
       "      <td>...</td>\n",
       "      <td>...</td>\n",
       "      <td>...</td>\n",
       "      <td>...</td>\n",
       "      <td>...</td>\n",
       "      <td>...</td>\n",
       "      <td>...</td>\n",
       "    </tr>\n",
       "    <tr>\n",
       "      <th>78251</th>\n",
       "      <td>1 month</td>\n",
       "      <td>A764894</td>\n",
       "      <td>Dog</td>\n",
       "      <td>Golden Retriever/Labrador Retriever</td>\n",
       "      <td>Brown/White</td>\n",
       "      <td>2017-12-04T00:00:00</td>\n",
       "      <td>2018-02-01T18:26:00</td>\n",
       "      <td>2018-02-01T18:26:00</td>\n",
       "      <td>NaN</td>\n",
       "      <td>Foster</td>\n",
       "      <td>Adoption</td>\n",
       "      <td>Spayed Female</td>\n",
       "    </tr>\n",
       "    <tr>\n",
       "      <th>78252</th>\n",
       "      <td>3 years</td>\n",
       "      <td>A764468</td>\n",
       "      <td>Dog</td>\n",
       "      <td>Mastiff Mix</td>\n",
       "      <td>Blue/White</td>\n",
       "      <td>2014-12-30T00:00:00</td>\n",
       "      <td>2018-02-01T18:06:00</td>\n",
       "      <td>2018-02-01T18:06:00</td>\n",
       "      <td>Max</td>\n",
       "      <td>NaN</td>\n",
       "      <td>Adoption</td>\n",
       "      <td>Neutered Male</td>\n",
       "    </tr>\n",
       "    <tr>\n",
       "      <th>78253</th>\n",
       "      <td>NaN</td>\n",
       "      <td>A766098</td>\n",
       "      <td>Other</td>\n",
       "      <td>Bat Mix</td>\n",
       "      <td>Brown</td>\n",
       "      <td>2017-02-01T00:00:00</td>\n",
       "      <td>2018-02-01T18:08:00</td>\n",
       "      <td>2018-02-01T18:08:00</td>\n",
       "      <td>NaN</td>\n",
       "      <td>Rabies Risk</td>\n",
       "      <td>Euthanasia</td>\n",
       "      <td>Unknown</td>\n",
       "    </tr>\n",
       "    <tr>\n",
       "      <th>78254</th>\n",
       "      <td>2 months</td>\n",
       "      <td>A765858</td>\n",
       "      <td>Dog</td>\n",
       "      <td>Standard Schnauzer</td>\n",
       "      <td>Red</td>\n",
       "      <td>2017-11-13T00:00:00</td>\n",
       "      <td>2018-02-01T18:32:00</td>\n",
       "      <td>2018-02-01T18:32:00</td>\n",
       "      <td>NaN</td>\n",
       "      <td>NaN</td>\n",
       "      <td>Adoption</td>\n",
       "      <td>Spayed Female</td>\n",
       "    </tr>\n",
       "    <tr>\n",
       "      <th>78255</th>\n",
       "      <td>2 months</td>\n",
       "      <td>A765857</td>\n",
       "      <td>Dog</td>\n",
       "      <td>Labrador Retriever Mix</td>\n",
       "      <td>White/Brown</td>\n",
       "      <td>2017-11-13T00:00:00</td>\n",
       "      <td>2018-02-01T18:44:00</td>\n",
       "      <td>2018-02-01T18:44:00</td>\n",
       "      <td>NaN</td>\n",
       "      <td>NaN</td>\n",
       "      <td>Adoption</td>\n",
       "      <td>Neutered Male</td>\n",
       "    </tr>\n",
       "  </tbody>\n",
       "</table>\n",
       "<p>78256 rows × 12 columns</p>\n",
       "</div>"
      ],
      "text/plain": [
       "      age_upon_outcome animal_id animal_type  \\\n",
       "0              2 weeks   A684346         Cat   \n",
       "1               1 year   A666430         Dog   \n",
       "2               1 year   A675708         Dog   \n",
       "3              9 years   A680386         Dog   \n",
       "4             5 months   A683115       Other   \n",
       "...                ...       ...         ...   \n",
       "78251          1 month   A764894         Dog   \n",
       "78252          3 years   A764468         Dog   \n",
       "78253              NaN   A766098       Other   \n",
       "78254         2 months   A765858         Dog   \n",
       "78255         2 months   A765857         Dog   \n",
       "\n",
       "                                     breed         color        date_of_birth  \\\n",
       "0                   Domestic Shorthair Mix  Orange Tabby  2014-07-07T00:00:00   \n",
       "1                               Beagle Mix   White/Brown  2012-11-06T00:00:00   \n",
       "2                                 Pit Bull    Blue/White  2013-03-31T00:00:00   \n",
       "3                  Miniature Schnauzer Mix         White  2005-06-02T00:00:00   \n",
       "4                                  Bat Mix         Brown  2014-01-07T00:00:00   \n",
       "...                                    ...           ...                  ...   \n",
       "78251  Golden Retriever/Labrador Retriever   Brown/White  2017-12-04T00:00:00   \n",
       "78252                          Mastiff Mix    Blue/White  2014-12-30T00:00:00   \n",
       "78253                              Bat Mix         Brown  2017-02-01T00:00:00   \n",
       "78254                   Standard Schnauzer           Red  2017-11-13T00:00:00   \n",
       "78255               Labrador Retriever Mix   White/Brown  2017-11-13T00:00:00   \n",
       "\n",
       "                  datetime            monthyear     name outcome_subtype  \\\n",
       "0      2014-07-22T16:04:00  2014-07-22T16:04:00      NaN         Partner   \n",
       "1      2013-11-07T11:47:00  2013-11-07T11:47:00     Lucy         Partner   \n",
       "2      2014-06-03T14:20:00  2014-06-03T14:20:00  *Johnny             NaN   \n",
       "3      2014-06-15T15:50:00  2014-06-15T15:50:00   Monday         Partner   \n",
       "4      2014-07-07T14:04:00  2014-07-07T14:04:00      NaN     Rabies Risk   \n",
       "...                    ...                  ...      ...             ...   \n",
       "78251  2018-02-01T18:26:00  2018-02-01T18:26:00      NaN          Foster   \n",
       "78252  2018-02-01T18:06:00  2018-02-01T18:06:00      Max             NaN   \n",
       "78253  2018-02-01T18:08:00  2018-02-01T18:08:00      NaN     Rabies Risk   \n",
       "78254  2018-02-01T18:32:00  2018-02-01T18:32:00      NaN             NaN   \n",
       "78255  2018-02-01T18:44:00  2018-02-01T18:44:00      NaN             NaN   \n",
       "\n",
       "      outcome_type sex_upon_outcome  \n",
       "0         Transfer      Intact Male  \n",
       "1         Transfer    Spayed Female  \n",
       "2         Adoption    Neutered Male  \n",
       "3         Transfer    Neutered Male  \n",
       "4       Euthanasia          Unknown  \n",
       "...            ...              ...  \n",
       "78251     Adoption    Spayed Female  \n",
       "78252     Adoption    Neutered Male  \n",
       "78253   Euthanasia          Unknown  \n",
       "78254     Adoption    Spayed Female  \n",
       "78255     Adoption    Neutered Male  \n",
       "\n",
       "[78256 rows x 12 columns]"
      ]
     },
     "execution_count": 9,
     "metadata": {},
     "output_type": "execute_result"
    }
   ],
   "source": [
    "import pandas as pd\n",
    "\n",
    "data = pd.read_csv(\"data.csv\")\n",
    "data"
   ]
  },
  {
   "cell_type": "code",
   "execution_count": 5,
   "id": "5f8addba",
   "metadata": {},
   "outputs": [
    {
     "name": "stdout",
     "output_type": "stream",
     "text": [
      "前10個出現次數最多的品種是:\n",
      " Domestic Shorthair Mix       23335\n",
      "Pit Bull Mix                  6135\n",
      "Chihuahua Shorthair Mix       4733\n",
      "Labrador Retriever Mix        4608\n",
      "Domestic Medium Hair Mix      2323\n",
      "German Shepherd Mix           1892\n",
      "Bat Mix                       1286\n",
      "Domestic Longhair Mix         1228\n",
      "Australian Cattle Dog Mix     1059\n",
      "Siamese Mix                    998\n",
      "Name: breed, dtype: int64\n"
     ]
    }
   ],
   "source": [
    "most_common_breeds = data['breed'].value_counts().head(10)\n",
    "\n",
    "print('前10個出現次數最多的品種是:\\n', most_common_breeds)"
   ]
  },
  {
   "cell_type": "code",
   "execution_count": 2,
   "id": "8bc66bcd",
   "metadata": {},
   "outputs": [
    {
     "name": "stdout",
     "output_type": "stream",
     "text": [
      "出現次數最多的動物和對應花色是: ('Dog', 'Black/White')\n"
     ]
    }
   ],
   "source": [
    "# 計算每個物種和花色出現的次數\n",
    "type_color_counts = data.groupby(['animal_type', 'color']).size()\n",
    "\n",
    "# 找到出現次數最多的動物和花色\n",
    "most_common_type_color = type_color_counts.idxmax()\n",
    "\n",
    "print('出現次數最多的動物和對應花色是:', most_common_type_color)"
   ]
  },
  {
   "cell_type": "code",
   "execution_count": 10,
   "id": "38ae44cd",
   "metadata": {},
   "outputs": [
    {
     "name": "stdout",
     "output_type": "stream",
     "text": [
      "被收養的前10種動物品種總數： breed\n",
      "Domestic Shorthair Mix       9901\n",
      "Pit Bull Mix                 2265\n",
      "Labrador Retriever Mix       2262\n",
      "Chihuahua Shorthair Mix      2219\n",
      "Domestic Medium Hair Mix     1052\n",
      "German Shepherd Mix           895\n",
      "Australian Cattle Dog Mix     587\n",
      "Domestic Longhair Mix         580\n",
      "Siamese Mix                   461\n",
      "Dachshund Mix                 388\n",
      "Name: breed, dtype: int64\n"
     ]
    }
   ],
   "source": [
    "# 篩選出outcome_type欄位值為 \"Adoption\" 的所有資料\n",
    "adopted_animals = data[data['outcome_type'] == 'Adoption']\n",
    "\n",
    "# 以 \"breed\" 為分組依據，對 \"breed\" 欄位進行計數，並按計數結果降序排序\n",
    "breed_counts = adopted_animals.groupby('breed')['breed'].count().sort_values(ascending=False)\n",
    "\n",
    "# 顯示結果\n",
    "print(\"被收養的前10種動物品種總數：\",breed_counts.head(10))"
   ]
  },
  {
   "cell_type": "code",
   "execution_count": 5,
   "id": "82484edb",
   "metadata": {},
   "outputs": [
    {
     "name": "stdout",
     "output_type": "stream",
     "text": [
      "2010年到2015年死亡的動物總數: 335\n"
     ]
    },
    {
     "name": "stderr",
     "output_type": "stream",
     "text": [
      "C:\\Users\\bonni\\AppData\\Local\\Temp\\ipykernel_10576\\2156315741.py:6: SettingWithCopyWarning: \n",
      "A value is trying to be set on a copy of a slice from a DataFrame.\n",
      "Try using .loc[row_indexer,col_indexer] = value instead\n",
      "\n",
      "See the caveats in the documentation: https://pandas.pydata.org/pandas-docs/stable/user_guide/indexing.html#returning-a-view-versus-a-copy\n",
      "  died_animals['datetime'] = pd.to_datetime(died_animals['monthyear'], format='%Y-%m')\n"
     ]
    }
   ],
   "source": [
    "# 篩選出outcome_type欄位值為 \"Died\" 的所有資料\n",
    "died_animals = data[data['outcome_type'] == 'Died']\n",
    "\n",
    "\n",
    "# 將monthyear欄位轉換為datetime格式\n",
    "died_animals['datetime'] = pd.to_datetime(died_animals['monthyear'], format='%Y-%m')\n",
    "\n",
    "# 篩選出年份在2010年到2015年之間的資料\n",
    "died_animals_2010_2015 = died_animals[(died_animals['datetime'].dt.year >= 2010) & (died_animals['datetime'].dt.year <= 2015)]\n",
    "\n",
    "# 計算行數，即2010年到2015年死亡的動物總數\n",
    "total_died_animals_2010_2015 = len(died_animals_2010_2015)\n",
    "\n",
    "# 顯示結果\n",
    "print(\"2010年到2015年死亡的動物總數: {}\".format(total_died_animals_2010_2015))"
   ]
  },
  {
   "cell_type": "code",
   "execution_count": 7,
   "id": "41740a5c",
   "metadata": {},
   "outputs": [
    {
     "name": "stderr",
     "output_type": "stream",
     "text": [
      "C:\\Users\\bonni\\AppData\\Local\\Temp\\ipykernel_10576\\1790560528.py:4: SettingWithCopyWarning: \n",
      "A value is trying to be set on a copy of a slice from a DataFrame.\n",
      "Try using .loc[row_indexer,col_indexer] = value instead\n",
      "\n",
      "See the caveats in the documentation: https://pandas.pydata.org/pandas-docs/stable/user_guide/indexing.html#returning-a-view-versus-a-copy\n",
      "  cat_data['birth_datetime'] = pd.to_datetime(cat_data['date_of_birth'], format='%Y-%m-%dT%H:%M:%S.%f')\n"
     ]
    },
    {
     "name": "stdout",
     "output_type": "stream",
     "text": [
      "birth_datetime\n",
      "1992-12-31       1\n",
      "1993-12-31       1\n",
      "1994-12-31       8\n",
      "1995-12-31       4\n",
      "1996-12-31       5\n",
      "1997-12-31       7\n",
      "1998-12-31      30\n",
      "1999-12-31      35\n",
      "2000-12-31      59\n",
      "2001-12-31     100\n",
      "2002-12-31     128\n",
      "2003-12-31      96\n",
      "2004-12-31     188\n",
      "2005-12-31     213\n",
      "2006-12-31     245\n",
      "2007-12-31     338\n",
      "2008-12-31     329\n",
      "2009-12-31     423\n",
      "2010-12-31     532\n",
      "2011-12-31     740\n",
      "2012-12-31    1257\n",
      "2013-12-31    3318\n",
      "2014-12-31    6010\n",
      "2015-12-31    6465\n",
      "2016-12-31    5046\n",
      "2017-12-31    3844\n",
      "Freq: A-DEC, dtype: int64\n"
     ]
    }
   ],
   "source": [
    "cat_data = data[data['animal_type'] == 'Cat']\n",
    "\n",
    "# 將date_of_birth欄位轉換為datetime格式\n",
    "cat_data['birth_datetime'] = pd.to_datetime(cat_data['date_of_birth'], format='%Y-%m-%dT%H:%M:%S.%f')\n",
    "\n",
    "# 使用resample函數按年份分組，並計算每年的行數，即每年出生的貓數量\n",
    "cat_count_per_year = cat_data.resample('Y', on='birth_datetime').size()\n",
    "\n",
    "# 輸出結果\n",
    "print(cat_count_per_year)"
   ]
  },
  {
   "cell_type": "code",
   "execution_count": 16,
   "id": "95e2f13a",
   "metadata": {},
   "outputs": [
    {
     "name": "stdout",
     "output_type": "stream",
     "text": [
      "前15個最多取的名字:\n",
      " Bella       344\n",
      "Max         319\n",
      "Luna        239\n",
      "Rocky       236\n",
      "Princess    235\n",
      "Daisy       233\n",
      "Charlie     211\n",
      "Lucy        206\n",
      "Buddy       201\n",
      "Coco        186\n",
      "Lola        174\n",
      "Blue        168\n",
      "Lucky       140\n",
      "Jack        138\n",
      "Zeus        132\n",
      "Name: name, dtype: int64\n"
     ]
    }
   ],
   "source": [
    "name_counts = data['name'].value_counts()\n",
    "\n",
    "# 取出前15個重複的名字及其對應的數量\n",
    "top_names = name_counts.head(15)\n",
    "\n",
    "# 輸出結果\n",
    "print('前15個最多取的名字:\\n',top_names)"
   ]
  },
  {
   "cell_type": "code",
   "execution_count": 12,
   "id": "b6917422",
   "metadata": {},
   "outputs": [
    {
     "name": "stdout",
     "output_type": "stream",
     "text": [
      "每年轉移的動物數量:\n",
      " datetime\n",
      "2013-12-31    1413\n",
      "2014-12-31    6182\n",
      "2015-12-31    5931\n",
      "2016-12-31    4853\n",
      "2017-12-31    4874\n",
      "2018-12-31     246\n",
      "Freq: A-DEC, dtype: int64\n"
     ]
    },
    {
     "name": "stderr",
     "output_type": "stream",
     "text": [
      "C:\\Users\\bonni\\AppData\\Local\\Temp\\ipykernel_10576\\1585070815.py:5: SettingWithCopyWarning: \n",
      "A value is trying to be set on a copy of a slice from a DataFrame.\n",
      "Try using .loc[row_indexer,col_indexer] = value instead\n",
      "\n",
      "See the caveats in the documentation: https://pandas.pydata.org/pandas-docs/stable/user_guide/indexing.html#returning-a-view-versus-a-copy\n",
      "  transfer_data['datetime'] = pd.to_datetime(transfer_data['datetime'], format='%Y-%m-%d %H:%M:%S')\n"
     ]
    }
   ],
   "source": [
    "# 篩選出outcome_type欄位值為\"Transfer\"的所有資料\n",
    "transfer_data = data[data['outcome_type'] == 'Transfer']\n",
    "\n",
    "# 將datetime格式的outcome_datetime欄位轉換為datetime格式\n",
    "transfer_data['datetime'] = pd.to_datetime(transfer_data['datetime'], format='%Y-%m-%d %H:%M:%S')\n",
    "\n",
    "# 使用resample函數按年份分組，並計算每年的行數，即每年轉移的動物數量\n",
    "transfer_count_per_year = transfer_data.resample('Y', on='datetime').size()\n",
    "\n",
    "# 輸出結果\n",
    "print('每年轉移的動物數量:\\n',transfer_count_per_year)"
   ]
  },
  {
   "cell_type": "code",
   "execution_count": 11,
   "id": "cbc3ed6d",
   "metadata": {},
   "outputs": [
    {
     "name": "stdout",
     "output_type": "stream",
     "text": [
      "歷年來收容所年紀超過5歲的動物數量： 11677\n"
     ]
    }
   ],
   "source": [
    "\n",
    "\n",
    "# 將datetime格式的date_of_birth欄位轉換為datetime格式\n",
    "data['date_of_birth'] = pd.to_datetime(data['date_of_birth'], format='%Y-%m-%dT%H:%M:%S.%f')\n",
    "data['datetime'] = pd.to_datetime(data['datetime'], format='%Y-%m-%dT%H:%M:%S.%f')\n",
    "\n",
    "# 計算年紀超過5歲的動物數量\n",
    "over_5_years = data[(data['datetime'] - data['date_of_birth']) > pd.Timedelta(days=5*365)].shape[0]\n",
    "\n",
    "# 輸出結果\n",
    "print(\"歷年來收容所年紀超過5歲的動物數量：\",over_5_years)"
   ]
  },
  {
   "cell_type": "code",
   "execution_count": 21,
   "id": "67e5341f",
   "metadata": {},
   "outputs": [
    {
     "name": "stdout",
     "output_type": "stream",
     "text": [
      "根據已被確定性別的數據來看，被收養的公貓有 6161 隻，母貓有 6570 隻\n"
     ]
    }
   ],
   "source": [
    "adopted = data[data['outcome_type'] == 'Adoption']\n",
    "\n",
    "# 篩選出貓的資料\n",
    "cat_adopted = adopted[adopted['animal_type'] == 'Cat']\n",
    "\n",
    "# 計算不同性別的貓的數量\n",
    "grouped = cat_adopted.groupby('sex_upon_outcome')\n",
    "male_count = grouped.get_group('Neutered Male').shape[0] + grouped.get_group('Intact Male').shape[0]\n",
    "female_count = grouped.get_group('Spayed Female').shape[0] + grouped.get_group('Intact Female').shape[0]\n",
    "\n",
    "print(\"根據已被確定性別的數據來看，被收養的公貓有\", male_count, \"隻，母貓有\", female_count,\"隻\")"
   ]
  },
  {
   "cell_type": "code",
   "execution_count": 22,
   "id": "39570a98",
   "metadata": {},
   "outputs": [
    {
     "name": "stdout",
     "output_type": "stream",
     "text": [
      "被收養的貓的性別數量分別是: 公貓= 6161  母貓= 6570  未知= 1\n"
     ]
    }
   ],
   "source": [
    "adopted = data[data['outcome_type'] == 'Adoption']\n",
    "cat_adopted = adopted[adopted['animal_type'] == 'Cat']\n",
    "grouped = cat_adopted.groupby('sex_upon_outcome')\n",
    "male_count = grouped.get_group('Neutered Male').shape[0] + grouped.get_group('Intact Male').shape[0]\n",
    "female_count = grouped.get_group('Spayed Female').shape[0] + grouped.get_group('Intact Female').shape[0]\n",
    "unknown_count = grouped.get_group('Unknown').shape[0]\n",
    "print(\"被收養的貓的性別數量分別是: 公貓=\", male_count, \" 母貓=\", female_count, \" 未知=\", unknown_count)"
   ]
  },
  {
   "cell_type": "code",
   "execution_count": null,
   "id": "5ced8286",
   "metadata": {},
   "outputs": [],
   "source": []
  },
  {
   "cell_type": "code",
   "execution_count": 28,
   "id": "708e235f",
   "metadata": {},
   "outputs": [
    {
     "ename": "NameError",
     "evalue": "name 'dt' is not defined",
     "output_type": "error",
     "traceback": [
      "\u001b[1;31m---------------------------------------------------------------------------\u001b[0m",
      "\u001b[1;31mNameError\u001b[0m                                 Traceback (most recent call last)",
      "\u001b[1;32m~\\AppData\\Local\\Temp\\ipykernel_10576\\1343891347.py\u001b[0m in \u001b[0;36m<module>\u001b[1;34m\u001b[0m\n\u001b[0;32m      1\u001b[0m \u001b[1;31m# 計算待在庇護所時的年紀\u001b[0m\u001b[1;33m\u001b[0m\u001b[1;33m\u001b[0m\u001b[0m\n\u001b[1;32m----> 2\u001b[1;33m \u001b[0mnow\u001b[0m \u001b[1;33m=\u001b[0m \u001b[0mpd\u001b[0m\u001b[1;33m.\u001b[0m\u001b[0mTimestamp\u001b[0m\u001b[1;33m(\u001b[0m\u001b[0mdt\u001b[0m\u001b[1;33m.\u001b[0m\u001b[0mdatetime\u001b[0m\u001b[1;33m.\u001b[0m\u001b[0mnow\u001b[0m\u001b[1;33m(\u001b[0m\u001b[1;33m)\u001b[0m\u001b[1;33m)\u001b[0m\u001b[1;33m\u001b[0m\u001b[1;33m\u001b[0m\u001b[0m\n\u001b[0m\u001b[0;32m      3\u001b[0m \u001b[0mdata\u001b[0m\u001b[1;33m[\u001b[0m\u001b[1;34m'age'\u001b[0m\u001b[1;33m]\u001b[0m \u001b[1;33m=\u001b[0m \u001b[1;33m(\u001b[0m\u001b[0mnow\u001b[0m \u001b[1;33m-\u001b[0m \u001b[0mpd\u001b[0m\u001b[1;33m.\u001b[0m\u001b[0mto_datetime\u001b[0m\u001b[1;33m(\u001b[0m\u001b[0mdata\u001b[0m\u001b[1;33m[\u001b[0m\u001b[1;34m'intake_date'\u001b[0m\u001b[1;33m]\u001b[0m\u001b[1;33m)\u001b[0m\u001b[1;33m)\u001b[0m\u001b[1;33m.\u001b[0m\u001b[0mdt\u001b[0m\u001b[1;33m.\u001b[0m\u001b[0mdays\u001b[0m \u001b[1;33m/\u001b[0m \u001b[1;36m365\u001b[0m\u001b[1;33m\u001b[0m\u001b[1;33m\u001b[0m\u001b[0m\n\u001b[0;32m      4\u001b[0m \u001b[1;33m\u001b[0m\u001b[0m\n\u001b[0;32m      5\u001b[0m \u001b[1;31m# 篩選出年紀超過5歲的動物\u001b[0m\u001b[1;33m\u001b[0m\u001b[1;33m\u001b[0m\u001b[0m\n",
      "\u001b[1;31mNameError\u001b[0m: name 'dt' is not defined"
     ]
    }
   ],
   "source": [
    "# 計算待在庇護所時的年紀\n",
    "now = pd.Timestamp(dt.datetime.now())\n",
    "data['age'] = (now - pd.to_datetime(data['intake_date'])).dt.days / 365\n",
    "\n",
    "# 篩選出年紀超過5歲的動物\n",
    "data_over_5 = data[data['age'] > 5]\n",
    "\n",
    "# 按照 gender 分組，計算公母總數\n",
    "grouped = data_over_5.groupby('gender')\n",
    "male_count = grouped.get_group('Male').shape[0]\n",
    "female_count = grouped.get_group('Female').shape[0]\n",
    "\n",
    "print(\"年紀超過5歲的動物公母總數分別是:\", male_count, \"和\", female_count)"
   ]
  },
  {
   "cell_type": "code",
   "execution_count": null,
   "id": "11a60349",
   "metadata": {},
   "outputs": [],
   "source": []
  },
  {
   "cell_type": "code",
   "execution_count": 27,
   "id": "a811a31d",
   "metadata": {},
   "outputs": [
    {
     "ename": "TypeError",
     "evalue": "Cannot perform 'rand_' with a dtyped [bool] array and scalar of type [bool]",
     "output_type": "error",
     "traceback": [
      "\u001b[1;31m---------------------------------------------------------------------------\u001b[0m",
      "\u001b[1;31mTypeError\u001b[0m                                 Traceback (most recent call last)",
      "\u001b[1;32mD:\\Python\\lib\\site-packages\\pandas\\core\\ops\\array_ops.py\u001b[0m in \u001b[0;36mna_logical_op\u001b[1;34m(x, y, op)\u001b[0m\n\u001b[0;32m    300\u001b[0m         \u001b[1;31m#  (xint or xbool) and (yint or bool)\u001b[0m\u001b[1;33m\u001b[0m\u001b[1;33m\u001b[0m\u001b[0m\n\u001b[1;32m--> 301\u001b[1;33m         \u001b[0mresult\u001b[0m \u001b[1;33m=\u001b[0m \u001b[0mop\u001b[0m\u001b[1;33m(\u001b[0m\u001b[0mx\u001b[0m\u001b[1;33m,\u001b[0m \u001b[0my\u001b[0m\u001b[1;33m)\u001b[0m\u001b[1;33m\u001b[0m\u001b[1;33m\u001b[0m\u001b[0m\n\u001b[0m\u001b[0;32m    302\u001b[0m     \u001b[1;32mexcept\u001b[0m \u001b[0mTypeError\u001b[0m\u001b[1;33m:\u001b[0m\u001b[1;33m\u001b[0m\u001b[1;33m\u001b[0m\u001b[0m\n",
      "\u001b[1;32mD:\\Python\\lib\\site-packages\\pandas\\core\\roperator.py\u001b[0m in \u001b[0;36mrand_\u001b[1;34m(left, right)\u001b[0m\n\u001b[0;32m     51\u001b[0m \u001b[1;32mdef\u001b[0m \u001b[0mrand_\u001b[0m\u001b[1;33m(\u001b[0m\u001b[0mleft\u001b[0m\u001b[1;33m,\u001b[0m \u001b[0mright\u001b[0m\u001b[1;33m)\u001b[0m\u001b[1;33m:\u001b[0m\u001b[1;33m\u001b[0m\u001b[1;33m\u001b[0m\u001b[0m\n\u001b[1;32m---> 52\u001b[1;33m     \u001b[1;32mreturn\u001b[0m \u001b[0moperator\u001b[0m\u001b[1;33m.\u001b[0m\u001b[0mand_\u001b[0m\u001b[1;33m(\u001b[0m\u001b[0mright\u001b[0m\u001b[1;33m,\u001b[0m \u001b[0mleft\u001b[0m\u001b[1;33m)\u001b[0m\u001b[1;33m\u001b[0m\u001b[1;33m\u001b[0m\u001b[0m\n\u001b[0m\u001b[0;32m     53\u001b[0m \u001b[1;33m\u001b[0m\u001b[0m\n",
      "\u001b[1;31mTypeError\u001b[0m: unsupported operand type(s) for &: 'Timedelta' and 'bool'",
      "\nDuring handling of the above exception, another exception occurred:\n",
      "\u001b[1;31mValueError\u001b[0m                                Traceback (most recent call last)",
      "\u001b[1;32mD:\\Python\\lib\\site-packages\\pandas\\core\\ops\\array_ops.py\u001b[0m in \u001b[0;36mna_logical_op\u001b[1;34m(x, y, op)\u001b[0m\n\u001b[0;32m    314\u001b[0m             \u001b[1;32mtry\u001b[0m\u001b[1;33m:\u001b[0m\u001b[1;33m\u001b[0m\u001b[1;33m\u001b[0m\u001b[0m\n\u001b[1;32m--> 315\u001b[1;33m                 \u001b[0mresult\u001b[0m \u001b[1;33m=\u001b[0m \u001b[0mlibops\u001b[0m\u001b[1;33m.\u001b[0m\u001b[0mscalar_binop\u001b[0m\u001b[1;33m(\u001b[0m\u001b[0mx\u001b[0m\u001b[1;33m,\u001b[0m \u001b[0my\u001b[0m\u001b[1;33m,\u001b[0m \u001b[0mop\u001b[0m\u001b[1;33m)\u001b[0m\u001b[1;33m\u001b[0m\u001b[1;33m\u001b[0m\u001b[0m\n\u001b[0m\u001b[0;32m    316\u001b[0m             except (\n",
      "\u001b[1;32mD:\\Python\\lib\\site-packages\\pandas\\_libs\\ops.pyx\u001b[0m in \u001b[0;36mpandas._libs.ops.scalar_binop\u001b[1;34m()\u001b[0m\n",
      "\u001b[1;31mValueError\u001b[0m: Buffer dtype mismatch, expected 'Python object' but got 'bool'",
      "\nThe above exception was the direct cause of the following exception:\n",
      "\u001b[1;31mTypeError\u001b[0m                                 Traceback (most recent call last)",
      "\u001b[1;32m~\\AppData\\Local\\Temp\\ipykernel_10576\\914897800.py\u001b[0m in \u001b[0;36m<module>\u001b[1;34m\u001b[0m\n\u001b[0;32m      5\u001b[0m \u001b[1;33m\u001b[0m\u001b[0m\n\u001b[0;32m      6\u001b[0m \u001b[1;31m# 計算年紀超過5歲且被收養的動物數量\u001b[0m\u001b[1;33m\u001b[0m\u001b[1;33m\u001b[0m\u001b[0m\n\u001b[1;32m----> 7\u001b[1;33m \u001b[0mover_5_years_adopted\u001b[0m \u001b[1;33m=\u001b[0m \u001b[1;33m(\u001b[0m\u001b[0mdata\u001b[0m\u001b[1;33m[\u001b[0m\u001b[1;33m(\u001b[0m\u001b[0mdata\u001b[0m\u001b[1;33m[\u001b[0m\u001b[1;34m'datetime'\u001b[0m\u001b[1;33m]\u001b[0m \u001b[1;33m-\u001b[0m \u001b[0mdata\u001b[0m\u001b[1;33m[\u001b[0m\u001b[1;34m'date_of_birth'\u001b[0m\u001b[1;33m]\u001b[0m\u001b[1;33m)\u001b[0m \u001b[1;33m>\u001b[0m \u001b[0mpd\u001b[0m\u001b[1;33m.\u001b[0m\u001b[0mTimedelta\u001b[0m\u001b[1;33m(\u001b[0m\u001b[0mdays\u001b[0m\u001b[1;33m=\u001b[0m\u001b[1;36m5\u001b[0m\u001b[1;33m*\u001b[0m\u001b[1;36m365\u001b[0m\u001b[1;33m)\u001b[0m \u001b[1;33m&\u001b[0m \u001b[1;33m(\u001b[0m\u001b[0mdata\u001b[0m\u001b[1;33m[\u001b[0m\u001b[1;34m'outcome_type'\u001b[0m\u001b[1;33m]\u001b[0m \u001b[1;33m==\u001b[0m \u001b[1;34m'Adoption'\u001b[0m\u001b[1;33m)\u001b[0m\u001b[1;33m]\u001b[0m\u001b[1;33m[\u001b[0m\u001b[1;34m'Adoption'\u001b[0m\u001b[1;33m]\u001b[0m\u001b[1;33m.\u001b[0m\u001b[0mcount\u001b[0m\u001b[1;33m(\u001b[0m\u001b[1;33m)\u001b[0m\u001b[1;33m)\u001b[0m\u001b[1;33m\u001b[0m\u001b[1;33m\u001b[0m\u001b[0m\n\u001b[0m\u001b[0;32m      8\u001b[0m \u001b[1;33m\u001b[0m\u001b[0m\n\u001b[0;32m      9\u001b[0m \u001b[1;31m# 輸出結果\u001b[0m\u001b[1;33m\u001b[0m\u001b[1;33m\u001b[0m\u001b[0m\n",
      "\u001b[1;32mD:\\Python\\lib\\site-packages\\pandas\\core\\ops\\common.py\u001b[0m in \u001b[0;36mnew_method\u001b[1;34m(self, other)\u001b[0m\n\u001b[0;32m     68\u001b[0m         \u001b[0mother\u001b[0m \u001b[1;33m=\u001b[0m \u001b[0mitem_from_zerodim\u001b[0m\u001b[1;33m(\u001b[0m\u001b[0mother\u001b[0m\u001b[1;33m)\u001b[0m\u001b[1;33m\u001b[0m\u001b[1;33m\u001b[0m\u001b[0m\n\u001b[0;32m     69\u001b[0m \u001b[1;33m\u001b[0m\u001b[0m\n\u001b[1;32m---> 70\u001b[1;33m         \u001b[1;32mreturn\u001b[0m \u001b[0mmethod\u001b[0m\u001b[1;33m(\u001b[0m\u001b[0mself\u001b[0m\u001b[1;33m,\u001b[0m \u001b[0mother\u001b[0m\u001b[1;33m)\u001b[0m\u001b[1;33m\u001b[0m\u001b[1;33m\u001b[0m\u001b[0m\n\u001b[0m\u001b[0;32m     71\u001b[0m \u001b[1;33m\u001b[0m\u001b[0m\n\u001b[0;32m     72\u001b[0m     \u001b[1;32mreturn\u001b[0m \u001b[0mnew_method\u001b[0m\u001b[1;33m\u001b[0m\u001b[1;33m\u001b[0m\u001b[0m\n",
      "\u001b[1;32mD:\\Python\\lib\\site-packages\\pandas\\core\\arraylike.py\u001b[0m in \u001b[0;36m__rand__\u001b[1;34m(self, other)\u001b[0m\n\u001b[0;32m     72\u001b[0m     \u001b[1;33m@\u001b[0m\u001b[0munpack_zerodim_and_defer\u001b[0m\u001b[1;33m(\u001b[0m\u001b[1;34m\"__rand__\"\u001b[0m\u001b[1;33m)\u001b[0m\u001b[1;33m\u001b[0m\u001b[1;33m\u001b[0m\u001b[0m\n\u001b[0;32m     73\u001b[0m     \u001b[1;32mdef\u001b[0m \u001b[0m__rand__\u001b[0m\u001b[1;33m(\u001b[0m\u001b[0mself\u001b[0m\u001b[1;33m,\u001b[0m \u001b[0mother\u001b[0m\u001b[1;33m)\u001b[0m\u001b[1;33m:\u001b[0m\u001b[1;33m\u001b[0m\u001b[1;33m\u001b[0m\u001b[0m\n\u001b[1;32m---> 74\u001b[1;33m         \u001b[1;32mreturn\u001b[0m \u001b[0mself\u001b[0m\u001b[1;33m.\u001b[0m\u001b[0m_logical_method\u001b[0m\u001b[1;33m(\u001b[0m\u001b[0mother\u001b[0m\u001b[1;33m,\u001b[0m \u001b[0mroperator\u001b[0m\u001b[1;33m.\u001b[0m\u001b[0mrand_\u001b[0m\u001b[1;33m)\u001b[0m\u001b[1;33m\u001b[0m\u001b[1;33m\u001b[0m\u001b[0m\n\u001b[0m\u001b[0;32m     75\u001b[0m \u001b[1;33m\u001b[0m\u001b[0m\n\u001b[0;32m     76\u001b[0m     \u001b[1;33m@\u001b[0m\u001b[0munpack_zerodim_and_defer\u001b[0m\u001b[1;33m(\u001b[0m\u001b[1;34m\"__or__\"\u001b[0m\u001b[1;33m)\u001b[0m\u001b[1;33m\u001b[0m\u001b[1;33m\u001b[0m\u001b[0m\n",
      "\u001b[1;32mD:\\Python\\lib\\site-packages\\pandas\\core\\series.py\u001b[0m in \u001b[0;36m_logical_method\u001b[1;34m(self, other, op)\u001b[0m\n\u001b[0;32m   5632\u001b[0m         \u001b[0mrvalues\u001b[0m \u001b[1;33m=\u001b[0m \u001b[0mextract_array\u001b[0m\u001b[1;33m(\u001b[0m\u001b[0mother\u001b[0m\u001b[1;33m,\u001b[0m \u001b[0mextract_numpy\u001b[0m\u001b[1;33m=\u001b[0m\u001b[1;32mTrue\u001b[0m\u001b[1;33m,\u001b[0m \u001b[0mextract_range\u001b[0m\u001b[1;33m=\u001b[0m\u001b[1;32mTrue\u001b[0m\u001b[1;33m)\u001b[0m\u001b[1;33m\u001b[0m\u001b[1;33m\u001b[0m\u001b[0m\n\u001b[0;32m   5633\u001b[0m \u001b[1;33m\u001b[0m\u001b[0m\n\u001b[1;32m-> 5634\u001b[1;33m         \u001b[0mres_values\u001b[0m \u001b[1;33m=\u001b[0m \u001b[0mops\u001b[0m\u001b[1;33m.\u001b[0m\u001b[0mlogical_op\u001b[0m\u001b[1;33m(\u001b[0m\u001b[0mlvalues\u001b[0m\u001b[1;33m,\u001b[0m \u001b[0mrvalues\u001b[0m\u001b[1;33m,\u001b[0m \u001b[0mop\u001b[0m\u001b[1;33m)\u001b[0m\u001b[1;33m\u001b[0m\u001b[1;33m\u001b[0m\u001b[0m\n\u001b[0m\u001b[0;32m   5635\u001b[0m         \u001b[1;32mreturn\u001b[0m \u001b[0mself\u001b[0m\u001b[1;33m.\u001b[0m\u001b[0m_construct_result\u001b[0m\u001b[1;33m(\u001b[0m\u001b[0mres_values\u001b[0m\u001b[1;33m,\u001b[0m \u001b[0mname\u001b[0m\u001b[1;33m=\u001b[0m\u001b[0mres_name\u001b[0m\u001b[1;33m)\u001b[0m\u001b[1;33m\u001b[0m\u001b[1;33m\u001b[0m\u001b[0m\n\u001b[0;32m   5636\u001b[0m \u001b[1;33m\u001b[0m\u001b[0m\n",
      "\u001b[1;32mD:\\Python\\lib\\site-packages\\pandas\\core\\ops\\array_ops.py\u001b[0m in \u001b[0;36mlogical_op\u001b[1;34m(left, right, op)\u001b[0m\n\u001b[0;32m    389\u001b[0m         \u001b[0mfiller\u001b[0m \u001b[1;33m=\u001b[0m \u001b[0mfill_int\u001b[0m \u001b[1;32mif\u001b[0m \u001b[0mis_self_int_dtype\u001b[0m \u001b[1;32mand\u001b[0m \u001b[0mis_other_int_dtype\u001b[0m \u001b[1;32melse\u001b[0m \u001b[0mfill_bool\u001b[0m\u001b[1;33m\u001b[0m\u001b[1;33m\u001b[0m\u001b[0m\n\u001b[0;32m    390\u001b[0m \u001b[1;33m\u001b[0m\u001b[0m\n\u001b[1;32m--> 391\u001b[1;33m         \u001b[0mres_values\u001b[0m \u001b[1;33m=\u001b[0m \u001b[0mna_logical_op\u001b[0m\u001b[1;33m(\u001b[0m\u001b[0mlvalues\u001b[0m\u001b[1;33m,\u001b[0m \u001b[0mrvalues\u001b[0m\u001b[1;33m,\u001b[0m \u001b[0mop\u001b[0m\u001b[1;33m)\u001b[0m\u001b[1;33m\u001b[0m\u001b[1;33m\u001b[0m\u001b[0m\n\u001b[0m\u001b[0;32m    392\u001b[0m         \u001b[1;31m# error: Cannot call function of unknown type\u001b[0m\u001b[1;33m\u001b[0m\u001b[1;33m\u001b[0m\u001b[0m\n\u001b[0;32m    393\u001b[0m         \u001b[0mres_values\u001b[0m \u001b[1;33m=\u001b[0m \u001b[0mfiller\u001b[0m\u001b[1;33m(\u001b[0m\u001b[0mres_values\u001b[0m\u001b[1;33m)\u001b[0m  \u001b[1;31m# type: ignore[operator]\u001b[0m\u001b[1;33m\u001b[0m\u001b[1;33m\u001b[0m\u001b[0m\n",
      "\u001b[1;32mD:\\Python\\lib\\site-packages\\pandas\\core\\ops\\array_ops.py\u001b[0m in \u001b[0;36mna_logical_op\u001b[1;34m(x, y, op)\u001b[0m\n\u001b[0;32m    322\u001b[0m             ) as err:\n\u001b[0;32m    323\u001b[0m                 \u001b[0mtyp\u001b[0m \u001b[1;33m=\u001b[0m \u001b[0mtype\u001b[0m\u001b[1;33m(\u001b[0m\u001b[0my\u001b[0m\u001b[1;33m)\u001b[0m\u001b[1;33m.\u001b[0m\u001b[0m__name__\u001b[0m\u001b[1;33m\u001b[0m\u001b[1;33m\u001b[0m\u001b[0m\n\u001b[1;32m--> 324\u001b[1;33m                 raise TypeError(\n\u001b[0m\u001b[0;32m    325\u001b[0m                     \u001b[1;34mf\"Cannot perform '{op.__name__}' with a dtyped [{x.dtype}] array \"\u001b[0m\u001b[1;33m\u001b[0m\u001b[1;33m\u001b[0m\u001b[0m\n\u001b[0;32m    326\u001b[0m                     \u001b[1;34mf\"and scalar of type [{typ}]\"\u001b[0m\u001b[1;33m\u001b[0m\u001b[1;33m\u001b[0m\u001b[0m\n",
      "\u001b[1;31mTypeError\u001b[0m: Cannot perform 'rand_' with a dtyped [bool] array and scalar of type [bool]"
     ]
    }
   ],
   "source": [
    "# 將datetime格式的date_of_birth欄位轉換為datetime格式\n",
    "data['date_of_birth'] = pd.to_datetime(data['date_of_birth'], format='%Y-%m-%dT%H:%M:%S.%f')\n",
    "data['datetime'] = pd.to_datetime(data['datetime'], format='%Y-%m-%dT%H:%M:%S.%f')\n",
    "\n",
    "\n",
    "# 計算年紀超過5歲且被收養的動物數量\n",
    "over_5_years_adopted = (data[(data['datetime'] - data['date_of_birth']) > pd.Timedelta(days=5*365) & (data['outcome_type'] == 'Adoption')]['Adoption'].count())\n",
    "\n",
    "# 輸出結果\n",
    "print(over_5_years_adopted)\n"
   ]
  },
  {
   "cell_type": "code",
   "execution_count": null,
   "id": "40a695a9",
   "metadata": {},
   "outputs": [],
   "source": []
  },
  {
   "cell_type": "code",
   "execution_count": null,
   "id": "07dfbca9",
   "metadata": {},
   "outputs": [],
   "source": [
    "data['age_upon_outcome'] = data['age_upon_outcome'].astype(str)  # 將欄位轉換為字符串格式\n",
    "data['age_upon_outcome'] = data['age_upon_outcome'].apply(lambda x: pd.Timedelta(x))  # 將欄位轉換為timedelta64數據類型\n",
    "\n",
    "# 將age_upon_outcome欄位轉換為timedelta64數據類型，以天為單位\n",
    "data['age_upon_outcome'] = data['age_upon_outcome'].apply(lambda x: x.split())\n",
    "data['age_upon_outcome'] = data['age_upon_outcome'].apply(lambda x: int(x[0])*365 if 'year' in x else 0)\n",
    "data['age_upon_outcome'] += data['age_upon_outcome'].apply(lambda x: int(x[0])*30 if 'month' in x else 0)\n",
    "data['age_upon_outcome'] += data['age_upon_outcome'].apply(lambda x: int(x[0])*7 if 'week' in x else 0)\n",
    "data['age_upon_outcome'] += data['age_upon_outcome'].apply(lambda x: int(x[0]) if 'day' in x else 0)\n",
    "data['age_upon_outcome'] = pd.to_timedelta(data['age_upon_outcome'], unit='D')\n",
    "\n",
    "# 計算age_upon_outcome欄位的平均值（即平均逗留時間）\n",
    "avg_duration = data['age_upon_outcome'].mean()\n",
    "\n",
    "# 將平均逗留時間轉換為天數\n",
    "avg_duration_days = avg_duration.days\n",
    "\n",
    "print('動物在庇護所的平均逗留時間為:', avg_duration_days, '天')"
   ]
  }
 ],
 "metadata": {
  "kernelspec": {
   "display_name": "Python 3 (ipykernel)",
   "language": "python",
   "name": "python3"
  },
  "language_info": {
   "codemirror_mode": {
    "name": "ipython",
    "version": 3
   },
   "file_extension": ".py",
   "mimetype": "text/x-python",
   "name": "python",
   "nbconvert_exporter": "python",
   "pygments_lexer": "ipython3",
   "version": "3.9.13"
  }
 },
 "nbformat": 4,
 "nbformat_minor": 5
}
