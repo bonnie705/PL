{
 "cells": [
  {
   "cell_type": "code",
   "execution_count": null,
   "id": "719e6fc2",
   "metadata": {},
   "outputs": [],
   "source": [
    "import openai\n",
    "import pandas as pd"
   ]
  },
  {
   "cell_type": "code",
   "execution_count": null,
   "id": "7ffc7cde",
   "metadata": {},
   "outputs": [],
   "source": [
    "keyfile = open(\"key.txt\", \"r\")\n",
    "key = keyfile.readline()\n",
    "openai.api_key = key"
   ]
  },
  {
   "cell_type": "code",
   "execution_count": null,
   "id": "51846b2d",
   "metadata": {},
   "outputs": [],
   "source": [
    "def chatgptfn(sub_list):\n",
    "    result = ''\n",
    "    print(sub_list)\n",
    "    response = openai.ChatCompletion.create(\n",
    "        model=\"gpt-3.5-turbo\",\n",
    "        messages=[\n",
    "            {\"role\": \"system\", \"content\": \"You are an assistant\"},\n",
    "            {\"role\": \"user\", \"content\": f\"{sub_list} :give me a summary\"}\n",
    "        ]\n",
    "    )\n",
    "    for choice in response.choices:\n",
    "        result += choice.message.content\n",
    "    return result"
   ]
  },
  {
   "cell_type": "code",
   "execution_count": null,
   "id": "fac7bade",
   "metadata": {},
   "outputs": [],
   "source": [
    "with open('01.txt', 'r') as fh:\n",
    "    tmp = fh.read()\n",
    "    itemlist1 = tmp.split(',')"
   ]
  },
  {
   "cell_type": "code",
   "execution_count": null,
   "id": "856c66b8",
   "metadata": {},
   "outputs": [],
   "source": [
    "with open('02.txt', 'r') as fh:\n",
    "    tmp = fh.read()\n",
    "    itemlist2 = tmp.split(',')"
   ]
  },
  {
   "cell_type": "code",
   "execution_count": null,
   "id": "ed770629",
   "metadata": {},
   "outputs": [],
   "source": [
    "itemlist1 = str(itemlist1)"
   ]
  },
  {
   "cell_type": "code",
   "execution_count": null,
   "id": "3469dabb",
   "metadata": {},
   "outputs": [],
   "source": [
    "itemlist2 = str(itemlist2)"
   ]
  },
  {
   "cell_type": "code",
   "execution_count": null,
   "id": "903c642f",
   "metadata": {},
   "outputs": [],
   "source": [
    "data1 = [itemlist1[0:3200], itemlist1[3201:6400], \n",
    "        itemlist1[6401:9600], itemlist1[9601:12800], itemlist1[12801:16000]]"
   ]
  },
  {
   "cell_type": "code",
   "execution_count": null,
   "id": "bdfd4a82",
   "metadata": {},
   "outputs": [],
   "source": [
    "data2 = [itemlist2[0:3200], itemlist2[3201:6400], \n",
    "        itemlist2[6401:9600], itemlist2[9601:12800], itemlist2[12801:16000]]"
   ]
  },
  {
   "cell_type": "code",
   "execution_count": null,
   "id": "6d22145b",
   "metadata": {},
   "outputs": [],
   "source": [
    "for i in range(0,5):\n",
    "    data1[i] = chatgptfn(data1[i])"
   ]
  },
  {
   "cell_type": "code",
   "execution_count": null,
   "id": "8868fb29",
   "metadata": {},
   "outputs": [],
   "source": [
    "for i in range(0,5):\n",
    "    data2[i] = chatgptfn(data2[i])"
   ]
  },
  {
   "cell_type": "code",
   "execution_count": null,
   "id": "83492a22",
   "metadata": {},
   "outputs": [],
   "source": [
    "\n",
    "data_1 = ''\n",
    "for i in range(0,5):\n",
    "    data_1 = data_1 + data1[i]"
   ]
  },
  {
   "cell_type": "code",
   "execution_count": null,
   "id": "32726a29",
   "metadata": {},
   "outputs": [],
   "source": [
    "data_2 = ''\n",
    "for i in range(0,5):\n",
    "    data_2 = data_2 + data2[i]"
   ]
  },
  {
   "cell_type": "code",
   "execution_count": null,
   "id": "aea26805",
   "metadata": {},
   "outputs": [],
   "source": [
    "papers = [data_1, data_2]"
   ]
  },
  {
   "cell_type": "code",
   "execution_count": null,
   "id": "4ba3cf4a",
   "metadata": {},
   "outputs": [],
   "source": [
    "papers[1]"
   ]
  },
  {
   "cell_type": "code",
   "execution_count": null,
   "id": "9ac3eae8",
   "metadata": {},
   "outputs": [],
   "source": [
    "import gensim\n",
    "from gensim import corpora\n",
    "from pprint import pprint"
   ]
  },
  {
   "cell_type": "code",
   "execution_count": null,
   "id": "61ab60d0",
   "metadata": {},
   "outputs": [],
   "source": [
    "# 創建詞袋\n",
    "texts = [[word for word in document.lower().split()] for document in papers]\n",
    "dictionary = corpora.Dictionary(texts)\n",
    "corpus = [dictionary.doc2bow(text) for text in texts]"
   ]
  },
  {
   "cell_type": "code",
   "execution_count": null,
   "id": "d7577b97",
   "metadata": {},
   "outputs": [],
   "source": [
    "\n",
    "texts"
   ]
  },
  {
   "cell_type": "code",
   "execution_count": null,
   "id": "a4f33391",
   "metadata": {},
   "outputs": [],
   "source": [
    "# 訓練 LDA 模型\n",
    "lda_model = gensim.models.ldamodel.LdaModel(corpus=corpus, id2word=dictionary, \n",
    "                                            num_topics=2, random_state=100, update_every=1, \n",
    "                                            chunksize=100, passes=10, alpha='auto', per_word_topics=True)"
   ]
  },
  {
   "cell_type": "code",
   "execution_count": null,
   "id": "df93fc27",
   "metadata": {},
   "outputs": [],
   "source": [
    "# 輸出主題模型分析結果\n",
    "import pyLDAvis.gensim\n",
    "pyLDAvis.enable_notebook()\n",
    "vis = pyLDAvis.gensim.prepare(lda_model, corpus, dictionary)\n",
    "pyLDAvis.display(vis)\n",
    "C:\\Users\\pecu6\\anaconda3\\lib\\site-packages\\pyLDAvis\\_p"
   ]
  }
 ],
 "metadata": {
  "kernelspec": {
   "display_name": "Python 3 (ipykernel)",
   "language": "python",
   "name": "python3"
  },
  "language_info": {
   "codemirror_mode": {
    "name": "ipython",
    "version": 3
   },
   "file_extension": ".py",
   "mimetype": "text/x-python",
   "name": "python",
   "nbconvert_exporter": "python",
   "pygments_lexer": "ipython3",
   "version": "3.9.13"
  }
 },
 "nbformat": 4,
 "nbformat_minor": 5
}
