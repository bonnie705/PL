{
 "cells": [
  {
   "cell_type": "code",
   "execution_count": null,
   "id": "07b6b67d",
   "metadata": {},
   "outputs": [],
   "source": [
    "#匯入csv檔案\n",
    "#2021韓國Netflix戲劇/綜藝榜單\n"
   ]
  }
 ],
 "metadata": {
  "kernelspec": {
   "display_name": "Python 3 (ipykernel)",
   "language": "python",
   "name": "python3"
  },
  "language_info": {
   "codemirror_mode": {
    "name": "ipython",
    "version": 3
   },
   "file_extension": ".py",
   "mimetype": "text/x-python",
   "name": "python",
   "nbconvert_exporter": "python",
   "pygments_lexer": "ipython3",
   "version": "3.9.13"
  }
 },
 "nbformat": 4,
 "nbformat_minor": 5
}
